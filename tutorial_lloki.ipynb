{
 "cells": [
  {
   "cell_type": "code",
   "execution_count": null,
   "metadata": {},
   "outputs": [],
   "source": [
    "import argparse\n",
    "\n",
    "from lloki.cae.run_lloki_cae import run_lloki_cae\n",
    "from lloki.fp.run_lloki_fp import run_lloki_fp\n",
    "\n",
    "import warnings\n",
    "warnings.filterwarnings('ignore')\n",
    "\n",
    "import os\n",
    "import zipfile\n",
    "import gdown\n",
    "\n",
    "default_values = {\n",
    "    'data_dir': \"data/input_slices\",\n",
    "    'output_dir': \"output\",\n",
    "    'model_dir': \"external/scgpt\",\n",
    "    'reference_data_path': \"data/reference_data/scref_full.h5ad\",\n",
    "    'k': 40,\n",
    "    'iter': 40,\n",
    "    'alpha': 0.5,\n",
    "    'seed': 0,\n",
    "    'device': \"cuda\",\n",
    "    \"npl_num_neighbors\": 30\n",
    "}\n",
    "\n",
    "# Step 2: Convert the dictionary to an argparse.Namespace\n",
    "args = argparse.Namespace(**default_values)"
   ]
  },
  {
   "cell_type": "code",
   "execution_count": null,
   "metadata": {},
   "outputs": [],
   "source": [
    "\n",
    "data_dir = \"data/input_slices\"\n",
    "data_parent_dir = os.path.dirname(data_dir)\n",
    "\n",
    "# If the data_dir doesn't exist, download and extract\n",
    "if not os.path.exists(data_dir):\n",
    "    os.makedirs(data_parent_dir, exist_ok=True)\n",
    "\n",
    "    zip_path = os.path.join(data_parent_dir, \"h5ads_all.zip\")\n",
    "    gdown.download(id=\"1NE6SXmJcEKT4mhVMAO49-Y3KMCNoHOmM\", output=zip_path, quiet=False)\n",
    "\n",
    "    with zipfile.ZipFile(zip_path, 'r') as zip_ref:\n",
    "        zip_ref.extractall(data_parent_dir)\n",
    "\n",
    "    print(f\"Unzipped into: {data_parent_dir}\")\n",
    "else:\n",
    "    print(f\"Found existing input slices: {data_dir}\")\n"
   ]
  },
  {
   "cell_type": "code",
   "execution_count": null,
   "metadata": {},
   "outputs": [],
   "source": [
    "run_lloki_fp(args)"
   ]
  },
  {
   "cell_type": "code",
   "execution_count": null,
   "metadata": {},
   "outputs": [],
   "source": [
    "run_lloki_cae(args)"
   ]
  }
 ],
 "metadata": {
  "kernelspec": {
   "display_name": "Python 3 (ipykernel)",
   "language": "python",
   "name": "python3"
  },
  "language_info": {
   "codemirror_mode": {
    "name": "ipython",
    "version": 3
   },
   "file_extension": ".py",
   "mimetype": "text/x-python",
   "name": "python",
   "nbconvert_exporter": "python",
   "pygments_lexer": "ipython3",
   "version": "3.10.18"
  }
 },
 "nbformat": 4,
 "nbformat_minor": 4
}
