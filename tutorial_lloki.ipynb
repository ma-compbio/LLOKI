{
 "cells": [
  {
   "cell_type": "code",
   "execution_count": 2,
   "metadata": {},
   "outputs": [
    {
     "name": "stderr",
     "output_type": "stream",
     "text": [
      "/work/magroup/ehaber/newconda/envs/lloki4/lib/python3.10/site-packages/scgpt/model/model.py:21: UserWarning: flash_attn is not installed\n",
      "  warnings.warn(\"flash_attn is not installed\")\n",
      "/work/magroup/ehaber/newconda/envs/lloki4/lib/python3.10/site-packages/scgpt/model/multiomic_model.py:19: UserWarning: flash_attn is not installed\n",
      "  warnings.warn(\"flash_attn is not installed\")\n",
      "/work/magroup/ehaber/newconda/envs/lloki4/lib/python3.10/site-packages/torchtext/vocab/__init__.py:4: UserWarning: \n",
      "/!\\ IMPORTANT WARNING ABOUT TORCHTEXT STATUS /!\\ \n",
      "Torchtext is deprecated and the last released version will be 0.18 (this one). You can silence this warning by calling the following at the beginnign of your scripts: `import torchtext; torchtext.disable_torchtext_deprecation_warning()`\n",
      "  warnings.warn(torchtext._TORCHTEXT_DEPRECATION_MSG)\n",
      "/work/magroup/ehaber/newconda/envs/lloki4/lib/python3.10/site-packages/torchtext/utils.py:4: UserWarning: \n",
      "/!\\ IMPORTANT WARNING ABOUT TORCHTEXT STATUS /!\\ \n",
      "Torchtext is deprecated and the last released version will be 0.18 (this one). You can silence this warning by calling the following at the beginnign of your scripts: `import torchtext; torchtext.disable_torchtext_deprecation_warning()`\n",
      "  warnings.warn(torchtext._TORCHTEXT_DEPRECATION_MSG)\n"
     ]
    }
   ],
   "source": [
    "import argparse\n",
    "\n",
    "from lloki.cae.run_lloki_cae import run_lloki_cae\n",
    "from lloki.fp.run_lloki_fp import run_lloki_fp\n",
    "\n",
    "import warnings\n",
    "warnings.filterwarnings('ignore')\n",
    "\n",
    "import os\n",
    "import zipfile\n",
    "import gdown\n",
    "\n",
    "default_values = {\n",
    "    'data_dir': \"data/input_slices\",\n",
    "    'output_dir': \"output\",\n",
    "    'model_dir': \"external/scgpt\",\n",
    "    'reference_data_path': \"data/reference_data/scref_full.h5ad\",\n",
    "    'k': 40,\n",
    "    'iter': 40,\n",
    "    'alpha': 0.5,\n",
    "    'seed': 0,\n",
    "    'device': \"cuda\",\n",
    "    \"npl_num_neighbors\": 30\n",
    "}\n",
    "\n",
    "# Step 2: Convert the dictionary to an argparse.Namespace\n",
    "args = argparse.Namespace(**default_values)"
   ]
  },
  {
   "cell_type": "code",
   "execution_count": 3,
   "metadata": {},
   "outputs": [
    {
     "name": "stdout",
     "output_type": "stream",
     "text": [
      "Found existing input slices: data/input_slices\n"
     ]
    }
   ],
   "source": [
    "\n",
    "data_dir = \"data/input_slices\"\n",
    "data_parent_dir = os.path.dirname(data_dir)\n",
    "\n",
    "# If the data_dir doesn't exist, download and extract\n",
    "if not os.path.exists(data_dir):\n",
    "    os.makedirs(data_parent_dir, exist_ok=True)\n",
    "\n",
    "    zip_path = os.path.join(data_parent_dir, \"h5ads_all.zip\")\n",
    "    gdown.download(id=\"1NE6SXmJcEKT4mhVMAO49-Y3KMCNoHOmM\", output=zip_path, quiet=False)\n",
    "\n",
    "    with zipfile.ZipFile(zip_path, 'r') as zip_ref:\n",
    "        zip_ref.extractall(data_parent_dir)\n",
    "\n",
    "    print(f\"Unzipped into: {data_parent_dir}\")\n",
    "else:\n",
    "    print(f\"Found existing input slices: {data_dir}\")\n"
   ]
  },
  {
   "cell_type": "code",
   "execution_count": 4,
   "metadata": {},
   "outputs": [
    {
     "name": "stdout",
     "output_type": "stream",
     "text": [
      "Processing file: data/input_slices/cosmx_cts.h5ad\n"
     ]
    },
    {
     "ename": "OutOfMemoryError",
     "evalue": "CUDA out of memory. Tried to allocate 2.16 GiB. GPU ",
     "output_type": "error",
     "traceback": [
      "\u001b[0;31m---------------------------------------------------------------------------\u001b[0m",
      "\u001b[0;31mOutOfMemoryError\u001b[0m                          Traceback (most recent call last)",
      "Cell \u001b[0;32mIn[4], line 1\u001b[0m\n\u001b[0;32m----> 1\u001b[0m \u001b[43mrun_lloki_fp\u001b[49m\u001b[43m(\u001b[49m\u001b[43margs\u001b[49m\u001b[43m)\u001b[49m\n",
      "File \u001b[0;32m/work/magroup/ehaber/LLOKI2/LLOKI/lloki/fp/run_lloki_fp.py:37\u001b[0m, in \u001b[0;36mrun_lloki_fp\u001b[0;34m(args)\u001b[0m\n\u001b[1;32m     34\u001b[0m     batches \u001b[38;5;241m=\u001b[39m [adata[s] \u001b[38;5;28;01mfor\u001b[39;00m s \u001b[38;5;129;01min\u001b[39;00m np\u001b[38;5;241m.\u001b[39marray_split(sorted_indices, num_splits)]\n\u001b[1;32m     36\u001b[0m \u001b[38;5;66;03m# Propagate each batch and combine results\u001b[39;00m\n\u001b[0;32m---> 37\u001b[0m adata \u001b[38;5;241m=\u001b[39m ad\u001b[38;5;241m.\u001b[39mconcat([propagate(batch, adata_scrna, args) \u001b[38;5;28;01mfor\u001b[39;00m batch \u001b[38;5;129;01min\u001b[39;00m batches], join\u001b[38;5;241m=\u001b[39m\u001b[38;5;124m\"\u001b[39m\u001b[38;5;124mouter\u001b[39m\u001b[38;5;124m\"\u001b[39m, index_unique\u001b[38;5;241m=\u001b[39m\u001b[38;5;28;01mNone\u001b[39;00m)\n\u001b[1;32m     38\u001b[0m adata\u001b[38;5;241m.\u001b[39mobsm[\u001b[38;5;124m\"\u001b[39m\u001b[38;5;124mspatial\u001b[39m\u001b[38;5;124m\"\u001b[39m] \u001b[38;5;241m=\u001b[39m np\u001b[38;5;241m.\u001b[39mvstack([b\u001b[38;5;241m.\u001b[39mobsm[\u001b[38;5;124m\"\u001b[39m\u001b[38;5;124mspatial\u001b[39m\u001b[38;5;124m\"\u001b[39m] \u001b[38;5;28;01mfor\u001b[39;00m b \u001b[38;5;129;01min\u001b[39;00m batches])\n\u001b[1;32m     39\u001b[0m adata \u001b[38;5;241m=\u001b[39m adata[:, adata\u001b[38;5;241m.\u001b[39mvar_names\u001b[38;5;241m.\u001b[39misin(adata_scrna\u001b[38;5;241m.\u001b[39mvar_names)]  \u001b[38;5;66;03m# Filter genes present in reference data\u001b[39;00m\n",
      "File \u001b[0;32m/work/magroup/ehaber/LLOKI2/LLOKI/lloki/fp/run_lloki_fp.py:37\u001b[0m, in \u001b[0;36m<listcomp>\u001b[0;34m(.0)\u001b[0m\n\u001b[1;32m     34\u001b[0m     batches \u001b[38;5;241m=\u001b[39m [adata[s] \u001b[38;5;28;01mfor\u001b[39;00m s \u001b[38;5;129;01min\u001b[39;00m np\u001b[38;5;241m.\u001b[39marray_split(sorted_indices, num_splits)]\n\u001b[1;32m     36\u001b[0m \u001b[38;5;66;03m# Propagate each batch and combine results\u001b[39;00m\n\u001b[0;32m---> 37\u001b[0m adata \u001b[38;5;241m=\u001b[39m ad\u001b[38;5;241m.\u001b[39mconcat([\u001b[43mpropagate\u001b[49m\u001b[43m(\u001b[49m\u001b[43mbatch\u001b[49m\u001b[43m,\u001b[49m\u001b[43m \u001b[49m\u001b[43madata_scrna\u001b[49m\u001b[43m,\u001b[49m\u001b[43m \u001b[49m\u001b[43margs\u001b[49m\u001b[43m)\u001b[49m \u001b[38;5;28;01mfor\u001b[39;00m batch \u001b[38;5;129;01min\u001b[39;00m batches], join\u001b[38;5;241m=\u001b[39m\u001b[38;5;124m\"\u001b[39m\u001b[38;5;124mouter\u001b[39m\u001b[38;5;124m\"\u001b[39m, index_unique\u001b[38;5;241m=\u001b[39m\u001b[38;5;28;01mNone\u001b[39;00m)\n\u001b[1;32m     38\u001b[0m adata\u001b[38;5;241m.\u001b[39mobsm[\u001b[38;5;124m\"\u001b[39m\u001b[38;5;124mspatial\u001b[39m\u001b[38;5;124m\"\u001b[39m] \u001b[38;5;241m=\u001b[39m np\u001b[38;5;241m.\u001b[39mvstack([b\u001b[38;5;241m.\u001b[39mobsm[\u001b[38;5;124m\"\u001b[39m\u001b[38;5;124mspatial\u001b[39m\u001b[38;5;124m\"\u001b[39m] \u001b[38;5;28;01mfor\u001b[39;00m b \u001b[38;5;129;01min\u001b[39;00m batches])\n\u001b[1;32m     39\u001b[0m adata \u001b[38;5;241m=\u001b[39m adata[:, adata\u001b[38;5;241m.\u001b[39mvar_names\u001b[38;5;241m.\u001b[39misin(adata_scrna\u001b[38;5;241m.\u001b[39mvar_names)]  \u001b[38;5;66;03m# Filter genes present in reference data\u001b[39;00m\n",
      "File \u001b[0;32m/work/magroup/ehaber/LLOKI2/LLOKI/lloki/fp/lloki_fp.py:65\u001b[0m, in \u001b[0;36mpropagate\u001b[0;34m(adata, adata_scrna, args)\u001b[0m\n\u001b[1;32m     63\u001b[0m cell_data \u001b[38;5;241m=\u001b[39m torch\u001b[38;5;241m.\u001b[39mTensor(cell_data)\u001b[38;5;241m.\u001b[39mto(device)\n\u001b[1;32m     64\u001b[0m cell_data \u001b[38;5;241m=\u001b[39m cell_data \u001b[38;5;241m/\u001b[39m (torch\u001b[38;5;241m.\u001b[39mmax(cell_data) \u001b[38;5;241m+\u001b[39m \u001b[38;5;241m1e-8\u001b[39m)\n\u001b[0;32m---> 65\u001b[0m edge_index, edge_weight \u001b[38;5;241m=\u001b[39m \u001b[43mcreate_spatially_weighted_knn_graph\u001b[49m\u001b[43m(\u001b[49m\n\u001b[1;32m     66\u001b[0m \u001b[43m    \u001b[49m\u001b[43mcell_data\u001b[49m\u001b[43m,\u001b[49m\u001b[43m \u001b[49m\u001b[43madata\u001b[49m\u001b[43m,\u001b[49m\u001b[43m \u001b[49m\u001b[43margs\u001b[49m\u001b[38;5;241;43m.\u001b[39;49m\u001b[43mk\u001b[49m\u001b[43m,\u001b[49m\u001b[43m \u001b[49m\u001b[43mdevice\u001b[49m\u001b[43m,\u001b[49m\u001b[43m \u001b[49m\u001b[38;5;28;43;01mTrue\u001b[39;49;00m\u001b[43m,\u001b[49m\u001b[43m \u001b[49m\u001b[38;5;28;43;01mTrue\u001b[39;49;00m\n\u001b[1;32m     67\u001b[0m \u001b[43m\u001b[49m\u001b[43m)\u001b[49m\n\u001b[1;32m     69\u001b[0m model \u001b[38;5;241m=\u001b[39m FeaturePropagation(\n\u001b[1;32m     70\u001b[0m     num_iterations\u001b[38;5;241m=\u001b[39margs\u001b[38;5;241m.\u001b[39miter,\n\u001b[1;32m     71\u001b[0m     adata\u001b[38;5;241m=\u001b[39madata,\n\u001b[0;32m   (...)\u001b[0m\n\u001b[1;32m     75\u001b[0m     device\u001b[38;5;241m=\u001b[39mdevice,\n\u001b[1;32m     76\u001b[0m )\u001b[38;5;241m.\u001b[39mto(device)\n\u001b[1;32m     77\u001b[0m denoised_matrix \u001b[38;5;241m=\u001b[39m model(cell_data, edge_index\u001b[38;5;241m.\u001b[39mto(device), edge_weight\u001b[38;5;241m.\u001b[39mto(device))\n",
      "File \u001b[0;32m/work/magroup/ehaber/LLOKI2/LLOKI/lloki/fp/graph_construction.py:45\u001b[0m, in \u001b[0;36mcreate_spatially_weighted_knn_graph\u001b[0;34m(embeddings, adata, k, device, gcn_norm, sym)\u001b[0m\n\u001b[1;32m     41\u001b[0m \u001b[38;5;28;01mdef\u001b[39;00m\u001b[38;5;250m \u001b[39m\u001b[38;5;21mcreate_spatially_weighted_knn_graph\u001b[39m(\n\u001b[1;32m     42\u001b[0m     embeddings, adata, k, device, gcn_norm\u001b[38;5;241m=\u001b[39m\u001b[38;5;28;01mFalse\u001b[39;00m, sym\u001b[38;5;241m=\u001b[39m\u001b[38;5;28;01mTrue\u001b[39;00m\n\u001b[1;32m     43\u001b[0m ):\n\u001b[1;32m     44\u001b[0m \u001b[38;5;250m    \u001b[39m\u001b[38;5;124;03m\"\"\"Refine KNN graph by spatial distances, apply optional symmetrization and GCN normalization.\"\"\"\u001b[39;00m\n\u001b[0;32m---> 45\u001b[0m     knn_index, knn_weight \u001b[38;5;241m=\u001b[39m \u001b[43mknn_graph\u001b[49m\u001b[43m(\u001b[49m\u001b[43membeddings\u001b[49m\u001b[43m,\u001b[49m\u001b[43m \u001b[49m\u001b[43mk\u001b[49m\u001b[43m,\u001b[49m\u001b[43m \u001b[49m\u001b[43mgcn_norm\u001b[49m\u001b[38;5;241;43m=\u001b[39;49m\u001b[43mgcn_norm\u001b[49m\u001b[43m,\u001b[49m\u001b[43m \u001b[49m\u001b[43msym\u001b[49m\u001b[38;5;241;43m=\u001b[39;49m\u001b[43msym\u001b[49m\u001b[43m)\u001b[49m\n\u001b[1;32m     46\u001b[0m     knn_adj \u001b[38;5;241m=\u001b[39m torch\u001b[38;5;241m.\u001b[39mzeros((embeddings\u001b[38;5;241m.\u001b[39msize(\u001b[38;5;241m0\u001b[39m),) \u001b[38;5;241m*\u001b[39m \u001b[38;5;241m2\u001b[39m, device\u001b[38;5;241m=\u001b[39mdevice)\n\u001b[1;32m     47\u001b[0m     knn_adj[knn_index[\u001b[38;5;241m0\u001b[39m], knn_index[\u001b[38;5;241m1\u001b[39m]] \u001b[38;5;241m=\u001b[39m knn_weight\n",
      "File \u001b[0;32m/work/magroup/ehaber/LLOKI2/LLOKI/lloki/fp/graph_construction.py:29\u001b[0m, in \u001b[0;36mknn_graph\u001b[0;34m(embeddings, k, gcn_norm, sym)\u001b[0m\n\u001b[1;32m     27\u001b[0m embeddings \u001b[38;5;241m=\u001b[39m F\u001b[38;5;241m.\u001b[39mnormalize(embeddings, dim\u001b[38;5;241m=\u001b[39m\u001b[38;5;241m1\u001b[39m)\n\u001b[1;32m     28\u001b[0m similarity_graph \u001b[38;5;241m=\u001b[39m top_k(torch\u001b[38;5;241m.\u001b[39mmm(embeddings, embeddings\u001b[38;5;241m.\u001b[39mt()), k \u001b[38;5;241m+\u001b[39m \u001b[38;5;241m1\u001b[39m)\u001b[38;5;241m.\u001b[39mrelu()\n\u001b[0;32m---> 29\u001b[0m sparse_adj \u001b[38;5;241m=\u001b[39m \u001b[43mpost_processing\u001b[49m\u001b[43m(\u001b[49m\n\u001b[1;32m     30\u001b[0m \u001b[43m    \u001b[49m\u001b[43msimilarity_graph\u001b[49m\u001b[43m,\u001b[49m\u001b[43m \u001b[49m\u001b[43mgcn_norm\u001b[49m\u001b[38;5;241;43m=\u001b[39;49m\u001b[43mgcn_norm\u001b[49m\u001b[43m,\u001b[49m\u001b[43m \u001b[49m\u001b[43msym\u001b[49m\u001b[38;5;241;43m=\u001b[39;49m\u001b[43msym\u001b[49m\n\u001b[1;32m     31\u001b[0m \u001b[43m\u001b[49m\u001b[43m)\u001b[49m\u001b[38;5;241m.\u001b[39mto_sparse()\n\u001b[1;32m     32\u001b[0m \u001b[38;5;28;01mreturn\u001b[39;00m sparse_adj\u001b[38;5;241m.\u001b[39mindices(), sparse_adj\u001b[38;5;241m.\u001b[39mvalues()\n",
      "File \u001b[0;32m/work/magroup/ehaber/LLOKI2/LLOKI/lloki/fp/graph_construction.py:22\u001b[0m, in \u001b[0;36mpost_processing\u001b[0;34m(cur_raw_adj, add_self_loop, sym, gcn_norm)\u001b[0m\n\u001b[1;32m     20\u001b[0m deg \u001b[38;5;241m=\u001b[39m cur_raw_adj\u001b[38;5;241m.\u001b[39msum(\u001b[38;5;241m1\u001b[39m)\n\u001b[1;32m     21\u001b[0m deg_inv_sqrt \u001b[38;5;241m=\u001b[39m deg\u001b[38;5;241m.\u001b[39mpow(\u001b[38;5;241m-\u001b[39m\u001b[38;5;241m0.5\u001b[39m \u001b[38;5;28;01mif\u001b[39;00m gcn_norm \u001b[38;5;28;01melse\u001b[39;00m \u001b[38;5;241m-\u001b[39m\u001b[38;5;241m1\u001b[39m)\u001b[38;5;241m.\u001b[39mmasked_fill(deg \u001b[38;5;241m==\u001b[39m \u001b[38;5;241m0\u001b[39m, \u001b[38;5;241m0.0\u001b[39m)\n\u001b[0;32m---> 22\u001b[0m \u001b[38;5;28;01mreturn\u001b[39;00m \u001b[43mdeg_inv_sqrt\u001b[49m\u001b[38;5;241;43m.\u001b[39;49m\u001b[43mdiag\u001b[49m\u001b[43m(\u001b[49m\u001b[43m)\u001b[49m\u001b[43m \u001b[49m\u001b[38;5;241;43m@\u001b[39;49m\u001b[43m \u001b[49m\u001b[43mcur_raw_adj\u001b[49m\u001b[43m \u001b[49m\u001b[38;5;241;43m@\u001b[39;49m\u001b[43m \u001b[49m\u001b[43mdeg_inv_sqrt\u001b[49m\u001b[38;5;241;43m.\u001b[39;49m\u001b[43mdiag\u001b[49m\u001b[43m(\u001b[49m\u001b[43m)\u001b[49m\n",
      "\u001b[0;31mOutOfMemoryError\u001b[0m: CUDA out of memory. Tried to allocate 2.16 GiB. GPU "
     ]
    }
   ],
   "source": [
    "run_lloki_fp(args)"
   ]
  },
  {
   "cell_type": "code",
   "execution_count": null,
   "metadata": {},
   "outputs": [],
   "source": [
    "run_lloki_cae(args)"
   ]
  }
 ],
 "metadata": {
  "kernelspec": {
   "display_name": "Python 3 (ipykernel)",
   "language": "python",
   "name": "python3"
  },
  "language_info": {
   "codemirror_mode": {
    "name": "ipython",
    "version": 3
   },
   "file_extension": ".py",
   "mimetype": "text/x-python",
   "name": "python",
   "nbconvert_exporter": "python",
   "pygments_lexer": "ipython3",
   "version": "3.10.18"
  }
 },
 "nbformat": 4,
 "nbformat_minor": 4
}
